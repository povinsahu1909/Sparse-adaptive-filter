{
 "cells": [
  {
   "cell_type": "code",
   "execution_count": 1,
   "metadata": {},
   "outputs": [],
   "source": [
    "import numpy as np\n",
    "import scipy as sp\n",
    "from scipy.signal import lfilter\n",
    "import matplotlib.pyplot as plt"
   ]
  },
  {
   "cell_type": "code",
   "execution_count": 4,
   "metadata": {
    "scrolled": false
   },
   "outputs": [
    {
     "data": {
      "text/plain": [
       "[<matplotlib.lines.Line2D at 0x7efe9b472160>]"
      ]
     },
     "execution_count": 4,
     "metadata": {},
     "output_type": "execute_result"
    },
    {
     "data": {
      "image/png": "[encoded data removed]",
      "text/plain": [
       "<Figure size 432x288 with 1 Axes>"
      ]
     },
     "metadata": {
      "needs_background": "light"
     },
     "output_type": "display_data"
    }
   ],
   "source": [
    "len = 30000\n",
    "err = []\n",
    "for iter in range(100):\n",
    "    x = np.random.rand(len) - 0.5\n",
    "    h = [-0.5, 0.1, 1, 0.1, -0.5]\n",
    "    # h = sp.sparse.random(1, 12,)\n",
    "    d = lfilter(h, 1, x)\n",
    "    ncoef = 10\n",
    "    x_tap = np.zeros(ncoef)\n",
    "    w = np.zeros(ncoef)\n",
    "    mu = 0.02\n",
    "#     plt.plot(d)\n",
    "    e = []\n",
    "    for n in range (0, len):\n",
    "        x_tap = np.concatenate(([x[n]], x_tap[:-1]))\n",
    "        y = np.dot(w, x_tap)\n",
    "        e.append(d[n] - y)\n",
    "        w = w + mu*e[-1]*x_tap\n",
    "#     plt.plot(e)\n",
    "#     plt.show()\n",
    "    err.append((np.square(e)))\n",
    "# plt.plot(10*np.log10(np.mean(err, axis=1)))\n",
    "plt.plot(10*np.log10(np.mean(err,axis=0)))"
   ]
  },
  {
   "cell_type": "code",
   "execution_count": 15,
   "metadata": {},
   "outputs": [
    {
     "data": {
      "text/plain": [
       "array([1.86313460e-02, 1.93377319e-02, 1.00156635e-01, ...,\n",
       "       3.83632277e-16, 4.60281455e-16, 4.37806844e-16])"
      ]
     },
     "execution_count": 15,
     "metadata": {},
     "output_type": "execute_result"
    }
   ],
   "source": [
    "np.mean(err,axis=0)"
   ]
  }
 ],
 "metadata": {
  "interpreter": {
   "hash": "31f2aee4e71d21fbe5cf8b01ff0e069b9275f58929596ceb00d14d90e3e16cd6"
  },
  "kernelspec": {
   "display_name": "Python 3",
   "language": "python",
   "name": "python3"
  },
  "language_info": {
   "codemirror_mode": {
    "name": "ipython",
    "version": 3
   },
   "file_extension": ".py",
   "mimetype": "text/x-python",
   "name": "python",
   "nbconvert_exporter": "python",
   "pygments_lexer": "ipython3",
   "version": "3.7.3"
  }
 },
 "nbformat": 4,
 "nbformat_minor": 2
}
